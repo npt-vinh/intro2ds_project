{
 "cells": [
  {
   "cell_type": "markdown",
   "metadata": {
    "id": "JDIEfL2ujFGQ"
   },
   "source": [
    "# Import Package"
   ]
  },
  {
   "cell_type": "code",
   "execution_count": 1,
   "metadata": {},
   "outputs": [],
   "source": [
    "#!conda install keras\n",
    "#!pip install keras"
   ]
  },
  {
   "cell_type": "code",
   "execution_count": 2,
   "metadata": {},
   "outputs": [],
   "source": [
    "#!conda install tensorflow\n",
    "#!pip install tensorflow"
   ]
  },
  {
   "cell_type": "code",
   "execution_count": 4,
   "metadata": {},
   "outputs": [],
   "source": [
    "#!conda install pandas_ta\n",
    "#!pip install pandas_ta"
   ]
  },
  {
   "cell_type": "code",
   "execution_count": 5,
   "metadata": {},
   "outputs": [
    {
     "name": "stdout",
     "output_type": "stream",
     "text": [
      "# packages in environment at D:\\anaconda3\\envs\\env4LDA:\n",
      "#\n",
      "# Name                    Version                   Build  Channel\n",
      "absl-py                   0.13.0                   pypi_0    pypi\n",
      "argon2-cffi               20.1.0           py39h2bbff1b_1  \n",
      "astunparse                1.6.3                    pypi_0    pypi\n",
      "async_generator           1.10               pyhd3eb1b0_0  \n",
      "attrs                     21.2.0             pyhd3eb1b0_0  \n",
      "backcall                  0.2.0              pyhd3eb1b0_0  \n",
      "blas                      1.0                         mkl  \n",
      "bleach                    4.0.0              pyhd3eb1b0_0  \n",
      "bottleneck                1.3.2            py39h7cc1a96_1  \n",
      "brotli                    1.0.9                ha925a31_2  \n",
      "brotlipy                  0.7.0           py39h2bbff1b_1003  \n",
      "ca-certificates           2021.7.5             haa95532_1  \n",
      "cachetools                4.2.2                    pypi_0    pypi\n",
      "certifi                   2021.5.30        py39haa95532_0  \n",
      "cffi                      1.14.6           py39h2bbff1b_0  \n",
      "charset-normalizer        2.0.4              pyhd3eb1b0_0  \n",
      "clang                     5.0                      pypi_0    pypi\n",
      "colorama                  0.4.4              pyhd3eb1b0_0  \n",
      "cryptography              3.4.7            py39h71e12ea_0  \n",
      "cycler                    0.10.0           py39haa95532_0  \n",
      "debugpy                   1.4.1            py39hd77b12b_0  \n",
      "decorator                 5.0.9              pyhd3eb1b0_0  \n",
      "defusedxml                0.7.1              pyhd3eb1b0_0  \n",
      "entrypoints               0.3              py39haa95532_0  \n",
      "flatbuffers               1.12                     pypi_0    pypi\n",
      "fonttools                 4.25.0             pyhd3eb1b0_0  \n",
      "freetype                  2.10.4               hd328e21_0  \n",
      "gast                      0.4.0                    pypi_0    pypi\n",
      "google-auth               1.35.0                   pypi_0    pypi\n",
      "google-auth-oauthlib      0.4.6                    pypi_0    pypi\n",
      "google-pasta              0.2.0                    pypi_0    pypi\n",
      "grpcio                    1.40.0                   pypi_0    pypi\n",
      "h5py                      3.1.0                    pypi_0    pypi\n",
      "icc_rt                    2019.0.0             h0cc432a_1  \n",
      "icu                       58.2                 ha925a31_3  \n",
      "idna                      3.2                pyhd3eb1b0_0  \n",
      "importlib-metadata        3.10.0           py39haa95532_0  \n",
      "importlib_metadata        3.10.0               hd3eb1b0_0  \n",
      "intel-openmp              2021.3.0          haa95532_3372  \n",
      "ipykernel                 6.2.0            py39haa95532_1  \n",
      "ipython                   7.26.0           py39hd4e2768_0  \n",
      "ipython_genutils          0.2.0              pyhd3eb1b0_1  \n",
      "ipywidgets                7.6.3              pyhd3eb1b0_1  \n",
      "jedi                      0.18.0           py39haa95532_1  \n",
      "jinja2                    3.0.1              pyhd3eb1b0_0  \n",
      "joblib                    1.0.1              pyhd3eb1b0_0  \n",
      "jpeg                      9b                   hb83a4c4_2  \n",
      "jsonschema                3.2.0                      py_2  \n",
      "jupyter                   1.0.0            py39haa95532_7  \n",
      "jupyter_client            6.1.12             pyhd3eb1b0_0  \n",
      "jupyter_console           6.4.0              pyhd3eb1b0_0  \n",
      "jupyter_core              4.7.1            py39haa95532_0  \n",
      "jupyterlab_pygments       0.1.2                      py_0  \n",
      "jupyterlab_widgets        1.0.0              pyhd3eb1b0_1  \n",
      "keras                     2.6.0                    pypi_0    pypi\n",
      "keras-preprocessing       1.1.2                    pypi_0    pypi\n",
      "kiwisolver                1.3.1            py39hd77b12b_0  \n",
      "libiconv                  1.15                 h1df5818_7  \n",
      "libpng                    1.6.37               h2a8f88b_0  \n",
      "libtiff                   4.2.0                hd0e1b90_0  \n",
      "libxml2                   2.9.12               h0ad7f3c_0  \n",
      "libxslt                   1.1.34               he774522_0  \n",
      "lxml                      4.6.3            py39h9b66d53_0  \n",
      "lz4-c                     1.9.3                h2bbff1b_1  \n",
      "m2w64-gcc-libgfortran     5.3.0                         6  \n",
      "m2w64-gcc-libs            5.3.0                         7  \n",
      "m2w64-gcc-libs-core       5.3.0                         7  \n",
      "m2w64-gmp                 6.1.0                         2  \n",
      "m2w64-libwinpthread-git   5.0.0.4634.697f757               2  \n",
      "markdown                  3.3.4                    pypi_0    pypi\n",
      "markupsafe                2.0.1            py39h2bbff1b_0  \n",
      "matplotlib                3.4.2            py39haa95532_0  \n",
      "matplotlib-base           3.4.2            py39h49ac443_0  \n",
      "matplotlib-inline         0.1.2              pyhd3eb1b0_2  \n",
      "mistune                   0.8.4           py39h2bbff1b_1000  \n",
      "mkl                       2021.3.0           haa95532_524  \n",
      "mkl-service               2.4.0            py39h2bbff1b_0  \n",
      "mkl_fft                   1.3.0            py39h277e83a_2  \n",
      "mkl_random                1.2.2            py39hf11a4ad_0  \n",
      "msys2-conda-epoch         20160418                      1  \n",
      "munkres                   1.1.4                      py_0  \n",
      "nbclient                  0.5.3              pyhd3eb1b0_0  \n",
      "nbconvert                 6.1.0            py39haa95532_0  \n",
      "nbformat                  5.1.3              pyhd3eb1b0_0  \n",
      "nbmerge                   0.0.4                    pypi_0    pypi\n",
      "nest-asyncio              1.5.1              pyhd3eb1b0_0  \n",
      "notebook                  6.4.3            py39haa95532_0  \n",
      "numexpr                   2.7.3            py39hb80d3ca_1  \n",
      "numpy                     1.19.5                   pypi_0    pypi\n",
      "numpy-base                1.20.3           py39hc2deb75_0  \n",
      "oauthlib                  3.1.1                    pypi_0    pypi\n",
      "olefile                   0.46                       py_0  \n",
      "openssl                   1.1.1l               h2bbff1b_0  \n",
      "opt-einsum                3.3.0                    pypi_0    pypi\n",
      "packaging                 21.0               pyhd3eb1b0_0  \n",
      "pandas                    1.3.2            py39h6214cd6_0  \n",
      "pandas-datareader         0.10.0             pyhd3eb1b0_0  \n",
      "pandas-ta                 0.3.14b0                 pypi_0    pypi\n",
      "pandocfilters             1.4.3            py39haa95532_1  \n",
      "parso                     0.8.2              pyhd3eb1b0_0  \n",
      "pickleshare               0.7.5           pyhd3eb1b0_1003  \n",
      "pillow                    8.3.1            py39h4fa10fc_0  \n",
      "pip                       21.2.4           py38haa95532_0  \n",
      "prometheus_client         0.11.0             pyhd3eb1b0_0  \n",
      "prompt-toolkit            3.0.17             pyh06a4308_0  \n",
      "prompt_toolkit            3.0.17               hd3eb1b0_0  \n",
      "protobuf                  3.17.3                   pypi_0    pypi\n",
      "pyasn1                    0.4.8                    pypi_0    pypi\n",
      "pyasn1-modules            0.2.8                    pypi_0    pypi\n",
      "pycparser                 2.20                       py_2  \n",
      "pygments                  2.10.0             pyhd3eb1b0_0  \n",
      "pyopenssl                 20.0.1             pyhd3eb1b0_1  \n",
      "pyparsing                 2.4.7              pyhd3eb1b0_0  \n",
      "pyqt                      5.9.2            py39hd77b12b_6  \n",
      "pyrsistent                0.18.0           py39h2bbff1b_0  \n",
      "pysocks                   1.7.1            py39haa95532_0  \n",
      "python                    3.9.6                h6244533_1  \n",
      "python-dateutil           2.8.2              pyhd3eb1b0_0  \n",
      "pytz                      2021.1             pyhd3eb1b0_0  \n",
      "pywin32                   228              py39hbaba5e8_1  \n",
      "pywinpty                  0.5.7            py39haa95532_0  \n",
      "pyzmq                     22.2.1           py39hd77b12b_1  \n",
      "qt                        5.9.7            vc14h73c81de_0  \n",
      "qtconsole                 5.1.0              pyhd3eb1b0_0  \n",
      "qtpy                      1.10.0             pyhd3eb1b0_0  \n",
      "requests                  2.26.0             pyhd3eb1b0_0  \n",
      "requests-oauthlib         1.3.0                    pypi_0    pypi\n",
      "rsa                       4.7.2                    pypi_0    pypi\n",
      "scikit-learn              0.24.2           py39hf11a4ad_1  \n",
      "scipy                     1.6.2            py39h66253e8_1  \n",
      "seaborn                   0.11.2             pyhd3eb1b0_0  \n",
      "send2trash                1.5.0              pyhd3eb1b0_1  \n",
      "setuptools                52.0.0           py39haa95532_0  \n",
      "sip                       4.19.13          py39hd77b12b_0  \n",
      "six                       1.15.0                   pypi_0    pypi\n",
      "sqlite                    3.36.0               h2bbff1b_0  \n",
      "tensorboard               2.6.0                    pypi_0    pypi\n",
      "tensorboard-data-server   0.6.1                    pypi_0    pypi\n",
      "tensorboard-plugin-wit    1.8.0                    pypi_0    pypi\n"
     ]
    },
    {
     "name": "stdout",
     "output_type": "stream",
     "text": [
      "tensorflow                2.6.0                    pypi_0    pypi\n",
      "tensorflow-estimator      2.6.0                    pypi_0    pypi\n",
      "termcolor                 1.1.0                    pypi_0    pypi\n",
      "terminado                 0.9.4            py39haa95532_0  \n",
      "testpath                  0.5.0              pyhd3eb1b0_0  \n",
      "threadpoolctl             2.2.0              pyhbf3da8f_0  \n",
      "tk                        8.6.10               he774522_0  \n",
      "tornado                   6.1              py39h2bbff1b_0  \n",
      "traitlets                 5.0.5              pyhd3eb1b0_0  \n",
      "typing-extensions         3.7.4.3                  pypi_0    pypi\n",
      "tzdata                    2021a                h5d7bf9c_0  \n",
      "urllib3                   1.26.6             pyhd3eb1b0_1  \n",
      "vc                        14.2                 h21ff451_1  \n",
      "vs2015_runtime            14.27.29016          h5e58377_2  \n",
      "wcwidth                   0.2.5                      py_0  \n",
      "webencodings              0.5.1            py39haa95532_1  \n",
      "werkzeug                  2.0.1                    pypi_0    pypi\n",
      "wheel                     0.37.0             pyhd3eb1b0_0  \n",
      "widgetsnbextension        3.5.1            py39haa95532_0  \n",
      "win_inet_pton             1.1.0            py39haa95532_0  \n",
      "wincertstore              0.2              py39h2bbff1b_0  \n",
      "winpty                    0.4.3                         4  \n",
      "wrapt                     1.12.1                   pypi_0    pypi\n",
      "xz                        5.2.5                h62dcd97_0  \n",
      "zipp                      3.5.0              pyhd3eb1b0_0  \n",
      "zlib                      1.2.11               h62dcd97_4  \n",
      "zstd                      1.4.9                h19a0ad4_0  \n"
     ]
    }
   ],
   "source": [
    "!conda list"
   ]
  },
  {
   "cell_type": "code",
   "execution_count": 1,
   "metadata": {
    "id": "sRwBADU9jFVy",
    "scrolled": true
   },
   "outputs": [],
   "source": [
    "#Import yfinance to get stock market data \n",
    "import tensorflow as tf\n",
    "import matplotlib.pyplot as plt\n",
    "import seaborn as sns\n",
    "import pandas as pd\n",
    "import datetime as dt\n",
    "import urllib.request, json\n",
    "import os\n",
    "import numpy as np\n",
    "import pandas_ta\n",
    "from keras.callbacks import EarlyStopping\n",
    "from sklearn.preprocessing import MinMaxScaler\n",
    "from tensorflow.python.framework import ops\n",
    "from sklearn.model_selection import train_test_split\n",
    "from matplotlib.pyplot import figure\n",
    "from sklearn.metrics import mean_squared_error, r2_score, mean_absolute_error\n",
    "from keras.models import Sequential\n",
    "from keras.layers import Dense\n",
    "from keras.layers import LSTM\n",
    "from keras.layers import Dropout\n",
    "from keras.layers import *\n",
    "from matplotlib.pyplot import figure"
   ]
  },
  {
   "cell_type": "markdown",
   "metadata": {
    "id": "oP1oNZBjityc"
   },
   "source": [
    "# Pre-processing (khám phá + check dữ liệu)\n"
   ]
  },
  {
   "cell_type": "markdown",
   "metadata": {
    "id": "dbuQkGG6Q9U4"
   },
   "source": [
    "Mục đích của mục này là để tìm hiểu mức độ tương đồng giữa EMA (một độ đo thường được dùng cho bài toán liên quan đến chuỗi thời gian, như dự đoán giá chứng khoáng) và Average (giá trị trung bình). "
   ]
  },
  {
   "cell_type": "markdown",
   "metadata": {
    "id": "aiAPlPuwGvsp"
   },
   "source": [
    "Lấy dữ liệu chứng khoáng từ tập đoàn Microsoft, khoảng thời gian từ \"1986-03-13\" đến \"2020-12-30\"."
   ]
  },
  {
   "cell_type": "code",
   "execution_count": 7,
   "metadata": {
    "colab": {
     "base_uri": "https://localhost:8080/",
     "height": 415
    },
    "id": "iNShangBis-W",
    "outputId": "82543e92-a0ae-44cb-8db8-bc2adede7aca",
    "scrolled": true
   },
   "outputs": [],
   "source": [
    "df = pd.read_csv(\"data/data.csv\")\n",
    "df.reset_index(inplace=True)"
   ]
  },
  {
   "cell_type": "markdown",
   "metadata": {
    "id": "X9t_wYUTHByc"
   },
   "source": [
    "Thể hiện bảng dữ liệu."
   ]
  },
  {
   "cell_type": "code",
   "execution_count": 8,
   "metadata": {
    "id": "gnDZvu3SJqs4"
   },
   "outputs": [
    {
     "data": {
      "text/html": [
       "<div>\n",
       "<style scoped>\n",
       "    .dataframe tbody tr th:only-of-type {\n",
       "        vertical-align: middle;\n",
       "    }\n",
       "\n",
       "    .dataframe tbody tr th {\n",
       "        vertical-align: top;\n",
       "    }\n",
       "\n",
       "    .dataframe thead th {\n",
       "        text-align: right;\n",
       "    }\n",
       "</style>\n",
       "<table border=\"1\" class=\"dataframe\">\n",
       "  <thead>\n",
       "    <tr style=\"text-align: right;\">\n",
       "      <th></th>\n",
       "      <th>index</th>\n",
       "      <th>Date</th>\n",
       "      <th>Open</th>\n",
       "      <th>High</th>\n",
       "      <th>Low</th>\n",
       "      <th>Close</th>\n",
       "      <th>Adj Close</th>\n",
       "      <th>Volume</th>\n",
       "    </tr>\n",
       "  </thead>\n",
       "  <tbody>\n",
       "    <tr>\n",
       "      <th>0</th>\n",
       "      <td>0</td>\n",
       "      <td>1986-03-13</td>\n",
       "      <td>0.088542</td>\n",
       "      <td>0.101563</td>\n",
       "      <td>0.088542</td>\n",
       "      <td>0.097222</td>\n",
       "      <td>0.061491</td>\n",
       "      <td>1031788800</td>\n",
       "    </tr>\n",
       "    <tr>\n",
       "      <th>1</th>\n",
       "      <td>1</td>\n",
       "      <td>1986-03-14</td>\n",
       "      <td>0.097222</td>\n",
       "      <td>0.102431</td>\n",
       "      <td>0.097222</td>\n",
       "      <td>0.100694</td>\n",
       "      <td>0.063687</td>\n",
       "      <td>308160000</td>\n",
       "    </tr>\n",
       "    <tr>\n",
       "      <th>2</th>\n",
       "      <td>2</td>\n",
       "      <td>1986-03-17</td>\n",
       "      <td>0.100694</td>\n",
       "      <td>0.103299</td>\n",
       "      <td>0.100694</td>\n",
       "      <td>0.102431</td>\n",
       "      <td>0.064785</td>\n",
       "      <td>133171200</td>\n",
       "    </tr>\n",
       "    <tr>\n",
       "      <th>3</th>\n",
       "      <td>3</td>\n",
       "      <td>1986-03-18</td>\n",
       "      <td>0.102431</td>\n",
       "      <td>0.103299</td>\n",
       "      <td>0.098958</td>\n",
       "      <td>0.099826</td>\n",
       "      <td>0.063138</td>\n",
       "      <td>67766400</td>\n",
       "    </tr>\n",
       "    <tr>\n",
       "      <th>4</th>\n",
       "      <td>4</td>\n",
       "      <td>1986-03-19</td>\n",
       "      <td>0.099826</td>\n",
       "      <td>0.100694</td>\n",
       "      <td>0.097222</td>\n",
       "      <td>0.098090</td>\n",
       "      <td>0.062040</td>\n",
       "      <td>47894400</td>\n",
       "    </tr>\n",
       "    <tr>\n",
       "      <th>...</th>\n",
       "      <td>...</td>\n",
       "      <td>...</td>\n",
       "      <td>...</td>\n",
       "      <td>...</td>\n",
       "      <td>...</td>\n",
       "      <td>...</td>\n",
       "      <td>...</td>\n",
       "      <td>...</td>\n",
       "    </tr>\n",
       "    <tr>\n",
       "      <th>8767</th>\n",
       "      <td>8767</td>\n",
       "      <td>2020-12-22</td>\n",
       "      <td>222.690002</td>\n",
       "      <td>225.630005</td>\n",
       "      <td>221.850006</td>\n",
       "      <td>223.940002</td>\n",
       "      <td>222.484772</td>\n",
       "      <td>22612200</td>\n",
       "    </tr>\n",
       "    <tr>\n",
       "      <th>8768</th>\n",
       "      <td>8768</td>\n",
       "      <td>2020-12-23</td>\n",
       "      <td>223.110001</td>\n",
       "      <td>223.559998</td>\n",
       "      <td>220.800003</td>\n",
       "      <td>221.020004</td>\n",
       "      <td>219.583740</td>\n",
       "      <td>18699600</td>\n",
       "    </tr>\n",
       "    <tr>\n",
       "      <th>8769</th>\n",
       "      <td>8769</td>\n",
       "      <td>2020-12-24</td>\n",
       "      <td>221.419998</td>\n",
       "      <td>223.610001</td>\n",
       "      <td>221.199997</td>\n",
       "      <td>222.750000</td>\n",
       "      <td>221.302490</td>\n",
       "      <td>10550600</td>\n",
       "    </tr>\n",
       "    <tr>\n",
       "      <th>8770</th>\n",
       "      <td>8770</td>\n",
       "      <td>2020-12-28</td>\n",
       "      <td>224.449997</td>\n",
       "      <td>226.029999</td>\n",
       "      <td>223.020004</td>\n",
       "      <td>224.960007</td>\n",
       "      <td>223.498138</td>\n",
       "      <td>17933500</td>\n",
       "    </tr>\n",
       "    <tr>\n",
       "      <th>8771</th>\n",
       "      <td>8771</td>\n",
       "      <td>2020-12-29</td>\n",
       "      <td>226.309998</td>\n",
       "      <td>227.179993</td>\n",
       "      <td>223.580002</td>\n",
       "      <td>224.149994</td>\n",
       "      <td>222.693390</td>\n",
       "      <td>17403200</td>\n",
       "    </tr>\n",
       "  </tbody>\n",
       "</table>\n",
       "<p>8772 rows × 8 columns</p>\n",
       "</div>"
      ],
      "text/plain": [
       "      index        Date        Open        High         Low       Close  \\\n",
       "0         0  1986-03-13    0.088542    0.101563    0.088542    0.097222   \n",
       "1         1  1986-03-14    0.097222    0.102431    0.097222    0.100694   \n",
       "2         2  1986-03-17    0.100694    0.103299    0.100694    0.102431   \n",
       "3         3  1986-03-18    0.102431    0.103299    0.098958    0.099826   \n",
       "4         4  1986-03-19    0.099826    0.100694    0.097222    0.098090   \n",
       "...     ...         ...         ...         ...         ...         ...   \n",
       "8767   8767  2020-12-22  222.690002  225.630005  221.850006  223.940002   \n",
       "8768   8768  2020-12-23  223.110001  223.559998  220.800003  221.020004   \n",
       "8769   8769  2020-12-24  221.419998  223.610001  221.199997  222.750000   \n",
       "8770   8770  2020-12-28  224.449997  226.029999  223.020004  224.960007   \n",
       "8771   8771  2020-12-29  226.309998  227.179993  223.580002  224.149994   \n",
       "\n",
       "       Adj Close      Volume  \n",
       "0       0.061491  1031788800  \n",
       "1       0.063687   308160000  \n",
       "2       0.064785   133171200  \n",
       "3       0.063138    67766400  \n",
       "4       0.062040    47894400  \n",
       "...          ...         ...  \n",
       "8767  222.484772    22612200  \n",
       "8768  219.583740    18699600  \n",
       "8769  221.302490    10550600  \n",
       "8770  223.498138    17933500  \n",
       "8771  222.693390    17403200  \n",
       "\n",
       "[8772 rows x 8 columns]"
      ]
     },
     "execution_count": 8,
     "metadata": {},
     "output_type": "execute_result"
    }
   ],
   "source": [
    "df"
   ]
  },
  {
   "cell_type": "code",
   "execution_count": 9,
   "metadata": {
    "id": "X5VoofH-PIB5"
   },
   "outputs": [
    {
     "data": {
      "text/html": [
       "<div>\n",
       "<style scoped>\n",
       "    .dataframe tbody tr th:only-of-type {\n",
       "        vertical-align: middle;\n",
       "    }\n",
       "\n",
       "    .dataframe tbody tr th {\n",
       "        vertical-align: top;\n",
       "    }\n",
       "\n",
       "    .dataframe thead th {\n",
       "        text-align: right;\n",
       "    }\n",
       "</style>\n",
       "<table border=\"1\" class=\"dataframe\">\n",
       "  <thead>\n",
       "    <tr style=\"text-align: right;\">\n",
       "      <th></th>\n",
       "      <th>index</th>\n",
       "      <th>Open</th>\n",
       "      <th>High</th>\n",
       "      <th>Low</th>\n",
       "      <th>Close</th>\n",
       "      <th>Adj Close</th>\n",
       "      <th>Volume</th>\n",
       "    </tr>\n",
       "  </thead>\n",
       "  <tbody>\n",
       "    <tr>\n",
       "      <th>count</th>\n",
       "      <td>8772.000000</td>\n",
       "      <td>8772.000000</td>\n",
       "      <td>8772.000000</td>\n",
       "      <td>8772.000000</td>\n",
       "      <td>8772.000000</td>\n",
       "      <td>8772.000000</td>\n",
       "      <td>8.772000e+03</td>\n",
       "    </tr>\n",
       "    <tr>\n",
       "      <th>mean</th>\n",
       "      <td>4385.500000</td>\n",
       "      <td>32.866332</td>\n",
       "      <td>33.225090</td>\n",
       "      <td>32.501516</td>\n",
       "      <td>32.873844</td>\n",
       "      <td>27.756048</td>\n",
       "      <td>5.982674e+07</td>\n",
       "    </tr>\n",
       "    <tr>\n",
       "      <th>std</th>\n",
       "      <td>2532.402614</td>\n",
       "      <td>39.447411</td>\n",
       "      <td>39.858851</td>\n",
       "      <td>39.012248</td>\n",
       "      <td>39.459279</td>\n",
       "      <td>39.179716</td>\n",
       "      <td>3.864257e+07</td>\n",
       "    </tr>\n",
       "    <tr>\n",
       "      <th>min</th>\n",
       "      <td>0.000000</td>\n",
       "      <td>0.088542</td>\n",
       "      <td>0.092014</td>\n",
       "      <td>0.088542</td>\n",
       "      <td>0.090278</td>\n",
       "      <td>0.057099</td>\n",
       "      <td>2.304000e+06</td>\n",
       "    </tr>\n",
       "    <tr>\n",
       "      <th>25%</th>\n",
       "      <td>2192.750000</td>\n",
       "      <td>3.765625</td>\n",
       "      <td>3.812500</td>\n",
       "      <td>3.734375</td>\n",
       "      <td>3.771485</td>\n",
       "      <td>2.385376</td>\n",
       "      <td>3.598048e+07</td>\n",
       "    </tr>\n",
       "    <tr>\n",
       "      <th>50%</th>\n",
       "      <td>4385.500000</td>\n",
       "      <td>26.500000</td>\n",
       "      <td>26.799999</td>\n",
       "      <td>26.209999</td>\n",
       "      <td>26.469999</td>\n",
       "      <td>18.475947</td>\n",
       "      <td>5.292935e+07</td>\n",
       "    </tr>\n",
       "    <tr>\n",
       "      <th>75%</th>\n",
       "      <td>6578.250000</td>\n",
       "      <td>35.662499</td>\n",
       "      <td>36.062500</td>\n",
       "      <td>35.281250</td>\n",
       "      <td>35.632812</td>\n",
       "      <td>26.358562</td>\n",
       "      <td>7.363295e+07</td>\n",
       "    </tr>\n",
       "    <tr>\n",
       "      <th>max</th>\n",
       "      <td>8771.000000</td>\n",
       "      <td>229.270004</td>\n",
       "      <td>232.860001</td>\n",
       "      <td>227.350006</td>\n",
       "      <td>231.649994</td>\n",
       "      <td>229.543701</td>\n",
       "      <td>1.031789e+09</td>\n",
       "    </tr>\n",
       "  </tbody>\n",
       "</table>\n",
       "</div>"
      ],
      "text/plain": [
       "             index         Open         High          Low        Close  \\\n",
       "count  8772.000000  8772.000000  8772.000000  8772.000000  8772.000000   \n",
       "mean   4385.500000    32.866332    33.225090    32.501516    32.873844   \n",
       "std    2532.402614    39.447411    39.858851    39.012248    39.459279   \n",
       "min       0.000000     0.088542     0.092014     0.088542     0.090278   \n",
       "25%    2192.750000     3.765625     3.812500     3.734375     3.771485   \n",
       "50%    4385.500000    26.500000    26.799999    26.209999    26.469999   \n",
       "75%    6578.250000    35.662499    36.062500    35.281250    35.632812   \n",
       "max    8771.000000   229.270004   232.860001   227.350006   231.649994   \n",
       "\n",
       "         Adj Close        Volume  \n",
       "count  8772.000000  8.772000e+03  \n",
       "mean     27.756048  5.982674e+07  \n",
       "std      39.179716  3.864257e+07  \n",
       "min       0.057099  2.304000e+06  \n",
       "25%       2.385376  3.598048e+07  \n",
       "50%      18.475947  5.292935e+07  \n",
       "75%      26.358562  7.363295e+07  \n",
       "max     229.543701  1.031789e+09  "
      ]
     },
     "execution_count": 9,
     "metadata": {},
     "output_type": "execute_result"
    }
   ],
   "source": [
    "df.describe()"
   ]
  },
  {
   "cell_type": "markdown",
   "metadata": {
    "id": "xMvxMdBIHyF1"
   },
   "source": [
    "Vẽ đồ thị đường để biểu diễn biến động chứng khoáng trong khoảng thời gian trên."
   ]
  },
  {
   "cell_type": "code",
   "execution_count": 10,
   "metadata": {
    "id": "4YAbQtFMNOnM"
   },
   "outputs": [
    {
     "data": {
      "image/png": "[encoded data removed]",
      "text/plain": [
       "<Figure size 1152x576 with 1 Axes>"
      ]
     },
     "metadata": {
      "needs_background": "light"
     },
     "output_type": "display_data"
    }
   ],
   "source": [
    "avg_price_list = (df['Low']+df['High'])/2.0\n",
    "plt.figure(figsize = (16,8))\n",
    "plt.plot(range(df.shape[0]), avg_price_list)\n",
    "plt.xticks(range(0,df.shape[0],600),df['Date'].loc[::600],rotation=45)\n",
    "plt.xlabel('Date',fontsize=15)\n",
    "plt.ylabel('Average Price',fontsize=15)\n",
    "plt.show()"
   ]
  },
  {
   "cell_type": "markdown",
   "metadata": {
    "id": "wNA6PLuoJnCv"
   },
   "source": [
    "Thêm cột \"avg_price\" bằng cách lấy trung bình cộng hai cột \"High\" và \"Low\". "
   ]
  },
  {
   "cell_type": "code",
   "execution_count": 11,
   "metadata": {
    "id": "JFoOPSVCjmWd"
   },
   "outputs": [],
   "source": [
    "df['avg_price'] = df.apply(lambda row: (row.Low + row.High)/2,axis=1)"
   ]
  },
  {
   "cell_type": "code",
   "execution_count": 12,
   "metadata": {
    "id": "0nP1NAN7jo8D"
   },
   "outputs": [
    {
     "data": {
      "text/html": [
       "<div>\n",
       "<style scoped>\n",
       "    .dataframe tbody tr th:only-of-type {\n",
       "        vertical-align: middle;\n",
       "    }\n",
       "\n",
       "    .dataframe tbody tr th {\n",
       "        vertical-align: top;\n",
       "    }\n",
       "\n",
       "    .dataframe thead th {\n",
       "        text-align: right;\n",
       "    }\n",
       "</style>\n",
       "<table border=\"1\" class=\"dataframe\">\n",
       "  <thead>\n",
       "    <tr style=\"text-align: right;\">\n",
       "      <th></th>\n",
       "      <th>index</th>\n",
       "      <th>Date</th>\n",
       "      <th>Open</th>\n",
       "      <th>High</th>\n",
       "      <th>Low</th>\n",
       "      <th>Close</th>\n",
       "      <th>Adj Close</th>\n",
       "      <th>Volume</th>\n",
       "      <th>avg_price</th>\n",
       "    </tr>\n",
       "  </thead>\n",
       "  <tbody>\n",
       "    <tr>\n",
       "      <th>0</th>\n",
       "      <td>0</td>\n",
       "      <td>1986-03-13</td>\n",
       "      <td>0.088542</td>\n",
       "      <td>0.101563</td>\n",
       "      <td>0.088542</td>\n",
       "      <td>0.097222</td>\n",
       "      <td>0.061491</td>\n",
       "      <td>1031788800</td>\n",
       "      <td>0.095052</td>\n",
       "    </tr>\n",
       "    <tr>\n",
       "      <th>1</th>\n",
       "      <td>1</td>\n",
       "      <td>1986-03-14</td>\n",
       "      <td>0.097222</td>\n",
       "      <td>0.102431</td>\n",
       "      <td>0.097222</td>\n",
       "      <td>0.100694</td>\n",
       "      <td>0.063687</td>\n",
       "      <td>308160000</td>\n",
       "      <td>0.099826</td>\n",
       "    </tr>\n",
       "    <tr>\n",
       "      <th>2</th>\n",
       "      <td>2</td>\n",
       "      <td>1986-03-17</td>\n",
       "      <td>0.100694</td>\n",
       "      <td>0.103299</td>\n",
       "      <td>0.100694</td>\n",
       "      <td>0.102431</td>\n",
       "      <td>0.064785</td>\n",
       "      <td>133171200</td>\n",
       "      <td>0.101997</td>\n",
       "    </tr>\n",
       "    <tr>\n",
       "      <th>3</th>\n",
       "      <td>3</td>\n",
       "      <td>1986-03-18</td>\n",
       "      <td>0.102431</td>\n",
       "      <td>0.103299</td>\n",
       "      <td>0.098958</td>\n",
       "      <td>0.099826</td>\n",
       "      <td>0.063138</td>\n",
       "      <td>67766400</td>\n",
       "      <td>0.101128</td>\n",
       "    </tr>\n",
       "    <tr>\n",
       "      <th>4</th>\n",
       "      <td>4</td>\n",
       "      <td>1986-03-19</td>\n",
       "      <td>0.099826</td>\n",
       "      <td>0.100694</td>\n",
       "      <td>0.097222</td>\n",
       "      <td>0.098090</td>\n",
       "      <td>0.062040</td>\n",
       "      <td>47894400</td>\n",
       "      <td>0.098958</td>\n",
       "    </tr>\n",
       "    <tr>\n",
       "      <th>...</th>\n",
       "      <td>...</td>\n",
       "      <td>...</td>\n",
       "      <td>...</td>\n",
       "      <td>...</td>\n",
       "      <td>...</td>\n",
       "      <td>...</td>\n",
       "      <td>...</td>\n",
       "      <td>...</td>\n",
       "      <td>...</td>\n",
       "    </tr>\n",
       "    <tr>\n",
       "      <th>8767</th>\n",
       "      <td>8767</td>\n",
       "      <td>2020-12-22</td>\n",
       "      <td>222.690002</td>\n",
       "      <td>225.630005</td>\n",
       "      <td>221.850006</td>\n",
       "      <td>223.940002</td>\n",
       "      <td>222.484772</td>\n",
       "      <td>22612200</td>\n",
       "      <td>223.740005</td>\n",
       "    </tr>\n",
       "    <tr>\n",
       "      <th>8768</th>\n",
       "      <td>8768</td>\n",
       "      <td>2020-12-23</td>\n",
       "      <td>223.110001</td>\n",
       "      <td>223.559998</td>\n",
       "      <td>220.800003</td>\n",
       "      <td>221.020004</td>\n",
       "      <td>219.583740</td>\n",
       "      <td>18699600</td>\n",
       "      <td>222.180000</td>\n",
       "    </tr>\n",
       "    <tr>\n",
       "      <th>8769</th>\n",
       "      <td>8769</td>\n",
       "      <td>2020-12-24</td>\n",
       "      <td>221.419998</td>\n",
       "      <td>223.610001</td>\n",
       "      <td>221.199997</td>\n",
       "      <td>222.750000</td>\n",
       "      <td>221.302490</td>\n",
       "      <td>10550600</td>\n",
       "      <td>222.404999</td>\n",
       "    </tr>\n",
       "    <tr>\n",
       "      <th>8770</th>\n",
       "      <td>8770</td>\n",
       "      <td>2020-12-28</td>\n",
       "      <td>224.449997</td>\n",
       "      <td>226.029999</td>\n",
       "      <td>223.020004</td>\n",
       "      <td>224.960007</td>\n",
       "      <td>223.498138</td>\n",
       "      <td>17933500</td>\n",
       "      <td>224.525002</td>\n",
       "    </tr>\n",
       "    <tr>\n",
       "      <th>8771</th>\n",
       "      <td>8771</td>\n",
       "      <td>2020-12-29</td>\n",
       "      <td>226.309998</td>\n",
       "      <td>227.179993</td>\n",
       "      <td>223.580002</td>\n",
       "      <td>224.149994</td>\n",
       "      <td>222.693390</td>\n",
       "      <td>17403200</td>\n",
       "      <td>225.379997</td>\n",
       "    </tr>\n",
       "  </tbody>\n",
       "</table>\n",
       "<p>8772 rows × 9 columns</p>\n",
       "</div>"
      ],
      "text/plain": [
       "      index        Date        Open        High         Low       Close  \\\n",
       "0         0  1986-03-13    0.088542    0.101563    0.088542    0.097222   \n",
       "1         1  1986-03-14    0.097222    0.102431    0.097222    0.100694   \n",
       "2         2  1986-03-17    0.100694    0.103299    0.100694    0.102431   \n",
       "3         3  1986-03-18    0.102431    0.103299    0.098958    0.099826   \n",
       "4         4  1986-03-19    0.099826    0.100694    0.097222    0.098090   \n",
       "...     ...         ...         ...         ...         ...         ...   \n",
       "8767   8767  2020-12-22  222.690002  225.630005  221.850006  223.940002   \n",
       "8768   8768  2020-12-23  223.110001  223.559998  220.800003  221.020004   \n",
       "8769   8769  2020-12-24  221.419998  223.610001  221.199997  222.750000   \n",
       "8770   8770  2020-12-28  224.449997  226.029999  223.020004  224.960007   \n",
       "8771   8771  2020-12-29  226.309998  227.179993  223.580002  224.149994   \n",
       "\n",
       "       Adj Close      Volume   avg_price  \n",
       "0       0.061491  1031788800    0.095052  \n",
       "1       0.063687   308160000    0.099826  \n",
       "2       0.064785   133171200    0.101997  \n",
       "3       0.063138    67766400    0.101128  \n",
       "4       0.062040    47894400    0.098958  \n",
       "...          ...         ...         ...  \n",
       "8767  222.484772    22612200  223.740005  \n",
       "8768  219.583740    18699600  222.180000  \n",
       "8769  221.302490    10550600  222.404999  \n",
       "8770  223.498138    17933500  224.525002  \n",
       "8771  222.693390    17403200  225.379997  \n",
       "\n",
       "[8772 rows x 9 columns]"
      ]
     },
     "execution_count": 12,
     "metadata": {},
     "output_type": "execute_result"
    }
   ],
   "source": [
    "new_df = df.copy()\n",
    "new_df"
   ]
  },
  {
   "cell_type": "markdown",
   "metadata": {
    "id": "GkqeTkeuJ0M0"
   },
   "source": [
    "Dùng thư viện \"pandas_ta\" để thêm cột \"EMA_10\"  - exponential moving average (10 days length)."
   ]
  },
  {
   "cell_type": "code",
   "execution_count": 13,
   "metadata": {
    "id": "lIYsbM7rjqqq"
   },
   "outputs": [
    {
     "name": "stderr",
     "output_type": "stream",
     "text": [
      "D:\\anaconda3\\envs\\env4LDA\\lib\\site-packages\\pandas_ta\\core.py:426: SettingWithCopyWarning: \n",
      "A value is trying to be set on a copy of a slice from a DataFrame.\n",
      "Try using .loc[row_indexer,col_indexer] = value instead\n",
      "\n",
      "See the caveats in the documentation: https://pandas.pydata.org/pandas-docs/stable/user_guide/indexing.html#returning-a-view-versus-a-copy\n",
      "  df[ind_name] = result\n"
     ]
    },
    {
     "data": {
      "text/html": [
       "<div>\n",
       "<style scoped>\n",
       "    .dataframe tbody tr th:only-of-type {\n",
       "        vertical-align: middle;\n",
       "    }\n",
       "\n",
       "    .dataframe tbody tr th {\n",
       "        vertical-align: top;\n",
       "    }\n",
       "\n",
       "    .dataframe thead th {\n",
       "        text-align: right;\n",
       "    }\n",
       "</style>\n",
       "<table border=\"1\" class=\"dataframe\">\n",
       "  <thead>\n",
       "    <tr style=\"text-align: right;\">\n",
       "      <th></th>\n",
       "      <th>avg_price</th>\n",
       "      <th>EMA_10</th>\n",
       "    </tr>\n",
       "  </thead>\n",
       "  <tbody>\n",
       "    <tr>\n",
       "      <th>0</th>\n",
       "      <td>0.095052</td>\n",
       "      <td>NaN</td>\n",
       "    </tr>\n",
       "    <tr>\n",
       "      <th>1</th>\n",
       "      <td>0.099826</td>\n",
       "      <td>NaN</td>\n",
       "    </tr>\n",
       "    <tr>\n",
       "      <th>2</th>\n",
       "      <td>0.101997</td>\n",
       "      <td>NaN</td>\n",
       "    </tr>\n",
       "    <tr>\n",
       "      <th>3</th>\n",
       "      <td>0.101128</td>\n",
       "      <td>NaN</td>\n",
       "    </tr>\n",
       "    <tr>\n",
       "      <th>4</th>\n",
       "      <td>0.098958</td>\n",
       "      <td>NaN</td>\n",
       "    </tr>\n",
       "    <tr>\n",
       "      <th>...</th>\n",
       "      <td>...</td>\n",
       "      <td>...</td>\n",
       "    </tr>\n",
       "    <tr>\n",
       "      <th>8767</th>\n",
       "      <td>223.740005</td>\n",
       "      <td>217.865544</td>\n",
       "    </tr>\n",
       "    <tr>\n",
       "      <th>8768</th>\n",
       "      <td>222.180000</td>\n",
       "      <td>218.649991</td>\n",
       "    </tr>\n",
       "    <tr>\n",
       "      <th>8769</th>\n",
       "      <td>222.404999</td>\n",
       "      <td>219.332719</td>\n",
       "    </tr>\n",
       "    <tr>\n",
       "      <th>8770</th>\n",
       "      <td>224.525002</td>\n",
       "      <td>220.276771</td>\n",
       "    </tr>\n",
       "    <tr>\n",
       "      <th>8771</th>\n",
       "      <td>225.379997</td>\n",
       "      <td>221.204630</td>\n",
       "    </tr>\n",
       "  </tbody>\n",
       "</table>\n",
       "<p>8772 rows × 2 columns</p>\n",
       "</div>"
      ],
      "text/plain": [
       "       avg_price      EMA_10\n",
       "0       0.095052         NaN\n",
       "1       0.099826         NaN\n",
       "2       0.101997         NaN\n",
       "3       0.101128         NaN\n",
       "4       0.098958         NaN\n",
       "...          ...         ...\n",
       "8767  223.740005  217.865544\n",
       "8768  222.180000  218.649991\n",
       "8769  222.404999  219.332719\n",
       "8770  224.525002  220.276771\n",
       "8771  225.379997  221.204630\n",
       "\n",
       "[8772 rows x 2 columns]"
      ]
     },
     "execution_count": 13,
     "metadata": {},
     "output_type": "execute_result"
    }
   ],
   "source": [
    "import pandas_ta\n",
    "df = new_df[['avg_price']]\n",
    "df.ta.ema(close='avg_price', length=10, append=True)\n",
    "df"
   ]
  },
  {
   "cell_type": "markdown",
   "metadata": {
    "id": "O5gZxtmbOUqL"
   },
   "source": [
    "Như quan sát phía trên, cột \"EMA-10\" sẽ có vài giá trị NaN, chính xác là 9, vì day lengths (lượng ngày cần để tạo ra một ema mới là 9), như vậy thì cột \"EMA-10\" sẽ có giá trị từ hàng thứ 10. Và ta sẽ cần loại bỏ 9 hàng NaN."
   ]
  },
  {
   "cell_type": "code",
   "execution_count": 14,
   "metadata": {
    "id": "dWrhhGxNBVU0"
   },
   "outputs": [
    {
     "name": "stderr",
     "output_type": "stream",
     "text": [
      "D:\\anaconda3\\envs\\env4LDA\\lib\\site-packages\\pandas\\util\\_decorators.py:311: SettingWithCopyWarning: \n",
      "A value is trying to be set on a copy of a slice from a DataFrame\n",
      "\n",
      "See the caveats in the documentation: https://pandas.pydata.org/pandas-docs/stable/user_guide/indexing.html#returning-a-view-versus-a-copy\n",
      "  return func(*args, **kwargs)\n"
     ]
    }
   ],
   "source": [
    "df.dropna(subset=['EMA_10'],inplace=True)"
   ]
  },
  {
   "cell_type": "code",
   "execution_count": 15,
   "metadata": {
    "id": "y_dQuvneBfNG"
   },
   "outputs": [
    {
     "data": {
      "text/html": [
       "<div>\n",
       "<style scoped>\n",
       "    .dataframe tbody tr th:only-of-type {\n",
       "        vertical-align: middle;\n",
       "    }\n",
       "\n",
       "    .dataframe tbody tr th {\n",
       "        vertical-align: top;\n",
       "    }\n",
       "\n",
       "    .dataframe thead th {\n",
       "        text-align: right;\n",
       "    }\n",
       "</style>\n",
       "<table border=\"1\" class=\"dataframe\">\n",
       "  <thead>\n",
       "    <tr style=\"text-align: right;\">\n",
       "      <th></th>\n",
       "      <th>avg_price</th>\n",
       "      <th>EMA_10</th>\n",
       "    </tr>\n",
       "  </thead>\n",
       "  <tbody>\n",
       "    <tr>\n",
       "      <th>9</th>\n",
       "      <td>0.093316</td>\n",
       "      <td>0.096267</td>\n",
       "    </tr>\n",
       "    <tr>\n",
       "      <th>10</th>\n",
       "      <td>0.095486</td>\n",
       "      <td>0.096125</td>\n",
       "    </tr>\n",
       "    <tr>\n",
       "      <th>11</th>\n",
       "      <td>0.095052</td>\n",
       "      <td>0.095930</td>\n",
       "    </tr>\n",
       "    <tr>\n",
       "      <th>12</th>\n",
       "      <td>0.095052</td>\n",
       "      <td>0.095771</td>\n",
       "    </tr>\n",
       "    <tr>\n",
       "      <th>13</th>\n",
       "      <td>0.095920</td>\n",
       "      <td>0.095798</td>\n",
       "    </tr>\n",
       "    <tr>\n",
       "      <th>...</th>\n",
       "      <td>...</td>\n",
       "      <td>...</td>\n",
       "    </tr>\n",
       "    <tr>\n",
       "      <th>8767</th>\n",
       "      <td>223.740005</td>\n",
       "      <td>217.865544</td>\n",
       "    </tr>\n",
       "    <tr>\n",
       "      <th>8768</th>\n",
       "      <td>222.180000</td>\n",
       "      <td>218.649991</td>\n",
       "    </tr>\n",
       "    <tr>\n",
       "      <th>8769</th>\n",
       "      <td>222.404999</td>\n",
       "      <td>219.332719</td>\n",
       "    </tr>\n",
       "    <tr>\n",
       "      <th>8770</th>\n",
       "      <td>224.525002</td>\n",
       "      <td>220.276771</td>\n",
       "    </tr>\n",
       "    <tr>\n",
       "      <th>8771</th>\n",
       "      <td>225.379997</td>\n",
       "      <td>221.204630</td>\n",
       "    </tr>\n",
       "  </tbody>\n",
       "</table>\n",
       "<p>8763 rows × 2 columns</p>\n",
       "</div>"
      ],
      "text/plain": [
       "       avg_price      EMA_10\n",
       "9       0.093316    0.096267\n",
       "10      0.095486    0.096125\n",
       "11      0.095052    0.095930\n",
       "12      0.095052    0.095771\n",
       "13      0.095920    0.095798\n",
       "...          ...         ...\n",
       "8767  223.740005  217.865544\n",
       "8768  222.180000  218.649991\n",
       "8769  222.404999  219.332719\n",
       "8770  224.525002  220.276771\n",
       "8771  225.379997  221.204630\n",
       "\n",
       "[8763 rows x 2 columns]"
      ]
     },
     "execution_count": 15,
     "metadata": {},
     "output_type": "execute_result"
    }
   ],
   "source": [
    "df"
   ]
  },
  {
   "cell_type": "markdown",
   "metadata": {
    "id": "Wz7JKMfAOv5a"
   },
   "source": [
    "Sau loại dropna, ta thấy số lượng hàng từ 8872 -> 8763, đúng 9 hàng. Như vậy dữ liệu trên đã được tiền xử lý hoàn tất, sẵn sàng cho để huấn luyện mô hình hồi quy tuyến tính."
   ]
  },
  {
   "cell_type": "code",
   "execution_count": 16,
   "metadata": {
    "id": "UgOzwFKvBj1k"
   },
   "outputs": [],
   "source": [
    "X_train, X_test, y_train, y_test = train_test_split(df[['avg_price']], df[['EMA_10']], test_size=.2)"
   ]
  },
  {
   "cell_type": "code",
   "execution_count": 17,
   "metadata": {
    "id": "KFrxd5meBmkk"
   },
   "outputs": [
    {
     "data": {
      "text/plain": [
       "LinearRegression()"
      ]
     },
     "execution_count": 17,
     "metadata": {},
     "output_type": "execute_result"
    }
   ],
   "source": [
    "from sklearn.linear_model import LinearRegression\n",
    "# Create Regression Model\n",
    "model = LinearRegression()\n",
    "# Train the model\n",
    "model.fit(X_train, y_train)"
   ]
  },
  {
   "cell_type": "markdown",
   "metadata": {
    "id": "vFgw42YBPQrn"
   },
   "source": [
    "Sau khi huấn luyện mô hình, ta sẽ biểu diễn khả năng dự đoán của mô hình huấn luyện bằng đồ thị đường và điểm."
   ]
  },
  {
   "cell_type": "code",
   "execution_count": 18,
   "metadata": {
    "id": "yJ_5jIQ2CiVc"
   },
   "outputs": [
    {
     "data": {
      "image/png": "[encoded data removed]",
      "text/plain": [
       "<Figure size 1152x720 with 1 Axes>"
      ]
     },
     "metadata": {
      "needs_background": "light"
     },
     "output_type": "display_data"
    }
   ],
   "source": [
    "plt.figure(1, figsize=(16,10))\n",
    "plt.scatter(X_train, y_train, edgecolor='w', label='Actual Price')\n",
    "plt.plot(X_train, model.predict(X_train), color='r', label='Predicted Price')\n",
    "plt.xlabel('Integer Date')\n",
    "plt.ylabel('Stock Price')\n",
    "plt.legend()\n",
    "plt.show()"
   ]
  },
  {
   "cell_type": "code",
   "execution_count": 19,
   "metadata": {
    "id": "y8DljoQoCwOR"
   },
   "outputs": [],
   "source": [
    "\n",
    "# Generate array with predicted values\n",
    "y_pred = model.predict(X_test)"
   ]
  },
  {
   "cell_type": "code",
   "execution_count": 20,
   "metadata": {
    "id": "spUJHmQlP1o9"
   },
   "outputs": [
    {
     "data": {
      "image/png": "[encoded data removed]",
      "text/plain": [
       "<Figure size 1152x720 with 1 Axes>"
      ]
     },
     "metadata": {
      "needs_background": "light"
     },
     "output_type": "display_data"
    }
   ],
   "source": [
    "plt.figure(1, figsize=(16,10))\n",
    "plt.scatter(X_test, y_test, edgecolor='w', label='Actual Price')\n",
    "plt.plot(X_test, model.predict(X_test), color='r', label='Predicted Price')\n",
    "plt.xlabel('Integer Date')\n",
    "plt.ylabel('Stock Price')\n",
    "plt.legend()\n",
    "plt.show()"
   ]
  },
  {
   "cell_type": "code",
   "execution_count": 21,
   "metadata": {
    "id": "i6_I5a9MC-I3"
   },
   "outputs": [
    {
     "name": "stdout",
     "output_type": "stream",
     "text": [
      "Model Coefficients: [[0.99325629]]\n",
      "Mean Absolute Error: 0.5709921462611287\n"
     ]
    }
   ],
   "source": [
    "from sklearn.metrics import mean_squared_error, r2_score, mean_absolute_error\n",
    "print(\"Model Coefficients:\", model.coef_)\n",
    "print(\"Mean Absolute Error:\", mean_absolute_error(y_test, y_pred))"
   ]
  },
  {
   "cell_type": "markdown",
   "metadata": {},
   "source": [
    "Kết luận: Như vậy sau quá trình khám phá dữ liệu trên ta nhận thấy điều sau: Giá trị trung bình có thể dùng trong bài toán dự đoán giá chứng khoán nhưng cần một phương pháp tiếp cận khác vì: <br/>\n",
    "1. Trong một chuỗi dữ liệu giá trị trung bình của một công ty/tập đoàn trong khoảng thời gian dài, những giá trị đầu tiên và giá trị cuối cùng sẽ chênh lệch rất nhiều, do đó chúng cần được được gom thành nhóm.\n",
    "2. Việc chuẩn hóa các giá trị trong một nhóm sẽ cần được thực hiện để có thể xem xét chính xác ảnh hưởng của những giá trị biên (Min, Max).\n",
    "<br/>=> Đề xuất sử dụng LSTM kết hợp với tiền xử lý smoothing window và MinMaxScaler làm mô hình dự đoán"
   ]
  },
  {
   "cell_type": "markdown",
   "metadata": {
    "id": "e7iv-Gy8NVbo"
   },
   "source": [
    "# Modeling - P.1(cài đặt LSTM)"
   ]
  },
  {
   "cell_type": "code",
   "execution_count": 22,
   "metadata": {
    "colab": {
     "base_uri": "https://localhost:8080/"
    },
    "id": "ytEYNa1sNWcQ",
    "outputId": "d1a94013-fff6-419c-8eda-fd4e898b4418"
   },
   "outputs": [],
   "source": [
    "data = pd.read_csv(\"data/data.csv\")\n",
    "data.reset_index(inplace=True)\n",
    "high_prices = data['High'].values\n",
    "low_prices = data['Low'].values\n",
    "#we take avg price from stock trading\n",
    "avg_prices = (high_prices+low_prices)/2\n",
    "train_size = int(3/4* len(avg_prices)) #splitting percentage HERE\n",
    "test_size = len(avg_prices) - train_size\n",
    "train_data = avg_prices[:train_size]\n",
    "test_data = avg_prices[:test_size]\n",
    "#Reshape the data for reprocessing\n",
    "train_data = train_data.reshape(-1,1)\n",
    "test_data = test_data.reshape(-1,1)\n",
    "#all_mid_data = np.concatenate([train_data,test_data],axis=0)"
   ]
  },
  {
   "cell_type": "markdown",
   "metadata": {},
   "source": [
    "Chúng ta có thể thấy giá stock ở những năm 1980 thấp hơn rất nhiều so với những năm 2020. Chính vì thế chúng ta cần phải scale data với min max scaler. Để giá stock ở những năm 1980 vẫn giữ được ý nghĩa (không phải bằng 0 vì khoảng cách giữa hai giá stock min và max quá lớn) chúng ta có smoothing_window_size quy định các khoảng mà chúng ta sẽ áp dụng min max scaler"
   ]
  },
  {
   "cell_type": "code",
   "execution_count": 23,
   "metadata": {
    "id": "3KdQAnbINXX4"
   },
   "outputs": [],
   "source": [
    "#Scale data with min max scaler\n",
    "scaler = MinMaxScaler()\n",
    "smoothing_window_size = 1000\n",
    "for di in range(0,train_size,smoothing_window_size):\n",
    "    scaler.fit(train_data[di:di+smoothing_window_size,:])\n",
    "    train_data[di:di+smoothing_window_size,:] = scaler.transform(train_data[di:di+smoothing_window_size,:])"
   ]
  },
  {
   "cell_type": "markdown",
   "metadata": {},
   "source": [
    "Vì đầu vào của mô hình yêu cầu dữ liệu phải là một mảng 3 chiều nên ta cần phải reshape lại với kích thước ban đầu cộng với 1 cho mô hình LSTM"
   ]
  },
  {
   "cell_type": "code",
   "execution_count": 24,
   "metadata": {
    "id": "rEl9OKD-OwvC"
   },
   "outputs": [],
   "source": [
    "#Make a 3D array data for LSTM\n",
    "train_data = train_data.reshape(train_data.shape[0],train_data.shape[1], 1)\n",
    "test_data = test_data.reshape(test_data.shape[0], test_data.shape[1], 1)"
   ]
  },
  {
   "cell_type": "markdown",
   "metadata": {},
   "source": [
    "Mục tiêu của chúng ta là sử dụng time_step ngày để có thể dự đoán ngày thứ time_step chính vì thế tập X của chúng ta là các mảng gồm time_step ngày và tập Y chính là giá trị của ngày thứ time_step+1 và dùng để huấn luyện\n",
    "\n",
    "Ở đây chúng ta sử dụng time_step = 100 tức sử dụng giá stock 100 ngày để dự đoán ngày thứ 101"
   ]
  },
  {
   "cell_type": "code",
   "execution_count": 25,
   "metadata": {
    "id": "pRy62p80OyxY"
   },
   "outputs": [],
   "source": [
    "#Create a data set for training and testing\n",
    "def create_dataset(data, time_step=1):\n",
    "    X, Y = [], []\n",
    "    for i in range(len(data)-time_step-1):\n",
    "        a = data[i:(i+time_step), 0]\n",
    "        X.append(a)\n",
    "        Y.append(data[i + time_step, 0])\n",
    "    return np.array(X), np.array(Y)\n",
    "\n",
    "time_step=100\n",
    "X_train, Y_train = create_dataset(train_data, time_step)\n",
    "X_test, Y_test = create_dataset(test_data, time_step)"
   ]
  },
  {
   "cell_type": "code",
   "execution_count": 26,
   "metadata": {
    "colab": {
     "base_uri": "https://localhost:8080/"
    },
    "id": "DV_D3KPkQUOR",
    "outputId": "f318098f-83ee-436c-b0b0-1f92cb352d27"
   },
   "outputs": [
    {
     "name": "stdout",
     "output_type": "stream",
     "text": [
      "Epoch 1/10\n",
      "203/203 [==============================] - 28s 119ms/step - loss: 0.0150\n",
      "Epoch 2/10\n",
      "203/203 [==============================] - 26s 129ms/step - loss: 0.0078\n",
      "Epoch 3/10\n",
      "203/203 [==============================] - 30s 148ms/step - loss: 0.0063\n",
      "Epoch 4/10\n",
      "203/203 [==============================] - 20s 99ms/step - loss: 0.0056\n",
      "Epoch 5/10\n",
      "203/203 [==============================] - 22s 107ms/step - loss: 0.0048\n",
      "Epoch 6/10\n",
      "203/203 [==============================] - 25s 125ms/step - loss: 0.0041\n",
      "Epoch 7/10\n",
      "203/203 [==============================] - 21s 106ms/step - loss: 0.0037\n",
      "Epoch 8/10\n",
      "203/203 [==============================] - 23s 114ms/step - loss: 0.0033\n",
      "Epoch 9/10\n",
      "203/203 [==============================] - 34s 165ms/step - loss: 0.0032\n",
      "Epoch 10/10\n",
      "203/203 [==============================] - 27s 133ms/step - loss: 0.00280s - loss: 0.00\n",
      "Model: \"sequential\"\n",
      "_________________________________________________________________\n",
      "Layer (type)                 Output Shape              Param #   \n",
      "=================================================================\n",
      "lstm (LSTM)                  (None, 100, 50)           10400     \n",
      "_________________________________________________________________\n",
      "dropout (Dropout)            (None, 100, 50)           0         \n",
      "_________________________________________________________________\n",
      "lstm_1 (LSTM)                (None, 100, 50)           20200     \n",
      "_________________________________________________________________\n",
      "dropout_1 (Dropout)          (None, 100, 50)           0         \n",
      "_________________________________________________________________\n",
      "lstm_2 (LSTM)                (None, 100, 50)           20200     \n",
      "_________________________________________________________________\n",
      "dropout_2 (Dropout)          (None, 100, 50)           0         \n",
      "_________________________________________________________________\n",
      "lstm_3 (LSTM)                (None, 50)                20200     \n",
      "_________________________________________________________________\n",
      "dropout_3 (Dropout)          (None, 50)                0         \n",
      "_________________________________________________________________\n",
      "dense (Dense)                (None, 1)                 51        \n",
      "=================================================================\n",
      "Total params: 71,051\n",
      "Trainable params: 71,051\n",
      "Non-trainable params: 0\n",
      "_________________________________________________________________\n"
     ]
    }
   ],
   "source": [
    "\n",
    "model = Sequential()\n",
    "\n",
    "#Adding a first LSTM layer\n",
    "model.add(LSTM(units = 50, return_sequences = True, input_shape = (X_train.shape[1], 1)))\n",
    "model.add(Dropout(0.2))\n",
    "\n",
    "# Adding a second LSTM layer\n",
    "model.add(LSTM(units = 50, return_sequences = True))\n",
    "model.add(Dropout(0.2))\n",
    "\n",
    "# Adding a third LSTM layer\n",
    "model.add(LSTM(units = 50, return_sequences = True))\n",
    "model.add(Dropout(0.2))\n",
    "\n",
    "# Adding a fourth LSTM layer\n",
    "model.add(LSTM(units = 50))\n",
    "model.add(Dropout(0.2))\n",
    "\n",
    "# Adding the output layer\n",
    "model.add(Dense(units = 1))\n",
    "\n",
    "# Compiling the RNN\n",
    "model.compile(optimizer = 'adam', loss = 'mean_squared_error')\n",
    "\n",
    "# Fitting the RNN to the Training set\n",
    "model.fit(X_train, Y_train, epochs = 100, batch_size = 32)\n",
    "model.summary()"
   ]
  },
  {
   "cell_type": "code",
   "execution_count": 27,
   "metadata": {
    "id": "lQKHgX4bQdC1"
   },
   "outputs": [],
   "source": [
    "predicted_stock_price = model.predict(X_test)\n",
    "predicted_stock_price = scaler.inverse_transform(predicted_stock_price)\n",
    "Y_test =  scaler.inverse_transform(Y_test)"
   ]
  },
  {
   "cell_type": "code",
   "execution_count": 28,
   "metadata": {
    "colab": {
     "base_uri": "https://localhost:8080/",
     "height": 685
    },
    "id": "zPM9TvSBVLZt",
    "outputId": "6e4be037-2ffb-4ab7-e807-817bf90be7e8"
   },
   "outputs": [
    {
     "data": {
      "image/png": "[encoded data removed]",
      "text/plain": [
       "<Figure size 800x800 with 1 Axes>"
      ]
     },
     "metadata": {
      "needs_background": "light"
     },
     "output_type": "display_data"
    }
   ],
   "source": [
    "# Visualising the results\n",
    "from matplotlib.pyplot import figure\n",
    "from sklearn.metrics import mean_squared_error, r2_score, mean_absolute_error\n",
    "figure(figsize=(10, 10), dpi=80)\n",
    "plt.plot(range(Y_test.shape[0]),Y_test, color = 'red', label = 'Real stock price')\n",
    "plt.plot(range(predicted_stock_price.shape[0]),predicted_stock_price, color = 'blue', label = 'Predicted stock price')\n",
    "plt.title('Stock Price Prediction')\n",
    "plt.xlabel('Time')\n",
    "plt.ylabel('Stock Price')\n",
    "plt.legend()\n",
    "plt.show()"
   ]
  },
  {
   "cell_type": "code",
   "execution_count": 29,
   "metadata": {
    "colab": {
     "base_uri": "https://localhost:8080/"
    },
    "id": "FU28K_oZX2q0",
    "outputId": "493b77f5-4508-4e1d-daae-7169a7f03033"
   },
   "outputs": [
    {
     "name": "stdout",
     "output_type": "stream",
     "text": [
      "Mean Absolute Error: 0.22920332596179\n",
      "Coefficient of Determination: 0.9783369826722107\n"
     ]
    }
   ],
   "source": [
    "from sklearn.metrics import mean_squared_error, r2_score, mean_absolute_error\n",
    "# Printout relevant metrics\n",
    "print(\"Mean Absolute Error:\", mean_absolute_error(Y_test, predicted_stock_price))"
   ]
  },
  {
   "cell_type": "markdown",
   "metadata": {},
   "source": [
    "=> Mô hình đạt được kết quả khả quan so với Linear Regression, chứng minh được bằng cách học thông qua mô hình LSTMs và các phương pháp preprocessing phù hợp với kiểu dữ liệu time series, bài toán dự đoán chứng khoán có thể được tối ưu hóa."
   ]
  },
  {
   "cell_type": "markdown",
   "metadata": {
    "id": "ZHMa7XPZQUJL"
   },
   "source": [
    "# Modeling - P.2 (thử với nhiều parameter)"
   ]
  },
  {
   "cell_type": "code",
   "execution_count": 32,
   "metadata": {
    "id": "sPHWdaaEQXnr"
   },
   "outputs": [],
   "source": [
    "def create_dataset(data, time_step=1):\n",
    "    X, Y = [], []\n",
    "    for i in range(len(data)-time_step-1):\n",
    "        a = data[i:(i+time_step), 0]\n",
    "        X.append(a)\n",
    "        Y.append(data[i + time_step, 0])\n",
    "    return np.array(X), np.array(Y)\n",
    "class LSTM_Model():\n",
    "    def __init__(self, time_step, smoothing_window_size):\n",
    "        self.time_step = time_step\n",
    "        self.smoothing_window_size =  smoothing_window_size\n",
    "    def get_and_split_data(self):\n",
    "        self.data = pd.read_csv(\"data/data.csv\")\n",
    "        self.data.reset_index(inplace=True)\n",
    "        high_prices = self.data['High'].values\n",
    "        low_prices = self.data['Low'].values\n",
    "        self.avg_prices = (high_prices+low_prices)/2\n",
    "        self.train_size = int(3/4* len(self.avg_prices)) #splitting percentage HERE\n",
    "        self.test_size = len(self.avg_prices) - self.train_size\n",
    "        self.train_data = self.avg_prices[:self.train_size]\n",
    "        self.test_data = self.avg_prices[:self.test_size]\n",
    "        self.train_data = self.train_data.reshape(-1,1)\n",
    "        self.test_data = self.test_data.reshape(-1,1)\n",
    "    def smoothing_function(self):\n",
    "        self.scaler = MinMaxScaler()\n",
    "        for di in range(0,self.train_size,self.smoothing_window_size):\n",
    "            self.scaler.fit(self.train_data[di:di+self.smoothing_window_size,:])\n",
    "            self.train_data[di:di+self.smoothing_window_size,:] = self.scaler.transform(self.train_data[di:di+self.smoothing_window_size,:])\n",
    "        self.train_data = self.train_data.reshape(self.train_data.shape[0],self.train_data.shape[1], 1)\n",
    "        self.test_data = self.test_data.reshape(self.test_data.shape[0], self.test_data.shape[1], 1)\n",
    "    def create_and_fit_model(self):\n",
    "        self.X_train, self.Y_train = create_dataset(self.train_data, self.time_step)\n",
    "        self.X_test, self.Y_test = create_dataset(self.test_data, self.time_step)\n",
    "        self.model = Sequential()\n",
    "        #Adding a first LSTM layer\n",
    "        self.model.add(LSTM(units = 50, return_sequences = True, input_shape = (self.X_train.shape[1], 1)))\n",
    "        self.model.add(Dropout(0.2))\n",
    "        # Adding a second LSTM layer\n",
    "        self.model.add(LSTM(units = 50, return_sequences = True))\n",
    "        self.model.add(Dropout(0.2))\n",
    "        # Adding a third LSTM layer\n",
    "        self.model.add(LSTM(units = 50, return_sequences = True))\n",
    "        self.model.add(Dropout(0.2))\n",
    "        # Adding a fourth LSTM layer \n",
    "        self.model.add(LSTM(units = 50))\n",
    "        self.model.add(Dropout(0.2))\n",
    "        # Adding the output layer\n",
    "        self.model.add(Dense(units = 1))\n",
    "        # Compiling the RNN\n",
    "        self.model.compile(optimizer = 'adam', loss = 'mean_squared_error')\n",
    "        # Fitting the RNN to the Training set\n",
    "        self.history = self.model.fit(self.X_train, self.Y_train, epochs = 1, batch_size = 32)\n",
    "    def predict(self):\n",
    "        self.predicted_stock_price = self.model.predict(self.X_test)\n",
    "        self.predicted_stock_price = self.scaler.inverse_transform(self.predicted_stock_price)\n",
    "        self.Y_test =  self.scaler.inverse_transform(self.Y_test)\n",
    "        return mean_absolute_error(self.Y_test, self.predicted_stock_price)\n",
    "    def plot_fig(self):\n",
    "        figure(figsize=(10, 10), dpi=80)\n",
    "        plt.plot(range(self.Y_test.shape[0]),self.Y_test, color = 'red', label = 'Real stock price')\n",
    "        plt.plot(range(self.predicted_stock_price.shape[0]),self.predicted_stock_price, color = 'blue', label = 'Predicted stock price')\n",
    "        plt.title('Stock Price Prediction')\n",
    "        plt.xlabel('Time')\n",
    "        plt.ylabel('Stock Price')\n",
    "        plt.legend()\n",
    "        plt.show()\n",
    "    def plot_loss_fig(self):\n",
    "        figure(figsize=(10, 10), dpi=80)\n",
    "        plt.plot(self.history.hitory['Loss'],label='Training Loss')\n",
    "        plt.plot(self.history.history['val_loss'],label='Validation Loss')\n",
    "        plt.legend()"
   ]
  },
  {
   "cell_type": "code",
   "execution_count": 33,
   "metadata": {
    "colab": {
     "base_uri": "https://localhost:8080/",
     "height": 467
    },
    "id": "A8g4-m-06J8h",
    "outputId": "0a368ddb-8883-452c-9f9d-fe0a514f91fa"
   },
   "outputs": [
    {
     "name": "stdout",
     "output_type": "stream",
     "text": [
      "Window size: 1000\n",
      "Time step: 100\n",
      "203/203 [==============================] - 24s 97ms/step - loss: 0.0169\n",
      "-----------------------\n",
      "Window size: 1000\n",
      "Time step: 150\n",
      "201/201 [==============================] - 34s 150ms/step - loss: 0.0141\n",
      "-----------------------\n",
      "Window size: 1000\n",
      "Time step: 200\n",
      "200/200 [==============================] - 49s 225ms/step - loss: 0.0163\n",
      "-----------------------\n",
      "Window size: 2500\n",
      "Time step: 100\n",
      "203/203 [==============================] - 26s 106ms/step - loss: 0.0089\n",
      "-----------------------\n",
      "Window size: 2500\n",
      "Time step: 150\n",
      "201/201 [==============================] - 47s 217ms/step - loss: 0.0092\n",
      "-----------------------\n",
      "Window size: 2500\n",
      "Time step: 200\n",
      "200/200 [==============================] - 58s 268ms/step - loss: 0.0101\n",
      "-----------------------\n",
      "Window size: 5000\n",
      "Time step: 100\n",
      "203/203 [==============================] - 28s 118ms/step - loss: 0.0063\n",
      "-----------------------\n",
      "Window size: 5000\n",
      "Time step: 150\n",
      "201/201 [==============================] - 46s 200ms/step - loss: 0.0078\n",
      "-----------------------\n",
      "Window size: 5000\n",
      "Time step: 200\n",
      "200/200 [==============================] - 52s 239ms/step - loss: 0.0089\n",
      "-----------------------\n"
     ]
    }
   ],
   "source": [
    "window_size_list=[1000,2500,5000]\n",
    "time_step_list=[100,150,200]\n",
    "test_errs = []\n",
    "for window_size in window_size_list:\n",
    "    for time_step in time_step_list:\n",
    "        print(\"Window size:\", window_size)\n",
    "        print(\"Time step:\",time_step)\n",
    "        my_model = LSTM_Model(time_step,window_size)\n",
    "        my_model.get_and_split_data()\n",
    "        my_model.smoothing_function()\n",
    "        my_model.create_and_fit_model()\n",
    "        test_errs.append(my_model.predict())\n",
    "        print(\"-----------------------\")"
   ]
  },
  {
   "cell_type": "code",
   "execution_count": 34,
   "metadata": {
    "colab": {
     "base_uri": "https://localhost:8080/",
     "height": 459
    },
    "id": "iRhBzSc_64FE",
    "outputId": "3cda7c01-8a23-45ae-9afa-f2edbad72085"
   },
   "outputs": [
    {
     "data": {
      "text/html": [
       "<div>\n",
       "<style scoped>\n",
       "    .dataframe tbody tr th:only-of-type {\n",
       "        vertical-align: middle;\n",
       "    }\n",
       "\n",
       "    .dataframe tbody tr th {\n",
       "        vertical-align: top;\n",
       "    }\n",
       "\n",
       "    .dataframe thead th {\n",
       "        text-align: right;\n",
       "    }\n",
       "</style>\n",
       "<table border=\"1\" class=\"dataframe\">\n",
       "  <thead>\n",
       "    <tr style=\"text-align: right;\">\n",
       "      <th></th>\n",
       "      <th>100</th>\n",
       "      <th>150</th>\n",
       "      <th>200</th>\n",
       "    </tr>\n",
       "  </thead>\n",
       "  <tbody>\n",
       "    <tr>\n",
       "      <th>1000</th>\n",
       "      <td>0.474965</td>\n",
       "      <td>0.440243</td>\n",
       "      <td>0.470327</td>\n",
       "    </tr>\n",
       "    <tr>\n",
       "      <th>2500</th>\n",
       "      <td>0.450330</td>\n",
       "      <td>0.309207</td>\n",
       "      <td>0.339489</td>\n",
       "    </tr>\n",
       "    <tr>\n",
       "      <th>5000</th>\n",
       "      <td>0.083520</td>\n",
       "      <td>0.171164</td>\n",
       "      <td>0.083616</td>\n",
       "    </tr>\n",
       "  </tbody>\n",
       "</table>\n",
       "</div>"
      ],
      "text/plain": [
       "           100       150       200\n",
       "1000  0.474965  0.440243  0.470327\n",
       "2500  0.450330  0.309207  0.339489\n",
       "5000  0.083520  0.171164  0.083616"
      ]
     },
     "metadata": {},
     "output_type": "display_data"
    },
    {
     "data": {
      "image/png": "[encoded data removed]",
      "text/plain": [
       "<Figure size 720x360 with 1 Axes>"
      ]
     },
     "metadata": {
      "needs_background": "light"
     },
     "output_type": "display_data"
    }
   ],
   "source": [
    "# Trực quan hóa kết quả\n",
    "\n",
    "test_errs_df = pd.DataFrame(\n",
    "    data=np.array(test_errs).reshape(len(window_size_list), -1), \n",
    "    index=window_size_list, columns=time_step_list)\n",
    "display(test_errs_df)\n",
    "min_err = min(test_errs)\n",
    "max_err = max(test_errs)\n",
    "plt.figure(figsize=(10, 5))\n",
    "plt.subplot(1, 2, 2)\n",
    "sns.heatmap(test_errs_df, vmin=min_err, vmax=max_err, square=True, \n",
    "            annot=True, cbar=False, fmt='.001', cmap='Reds')\n",
    "plt.title('Testing errors'); plt.xlabel('time_step'); plt.ylabel('smoothing_size');"
   ]
  },
  {
   "cell_type": "markdown",
   "metadata": {},
   "source": [
    "=> Biểu đồ cho thấy mức độ quan trọng của việc lựa chọn của smoothing size phù hợp. Vì smoothing window size lớn sẽ cho cái nhìn tổng quan hơn đến sự thay đổi giá trị theo thời gian của dữ liệu, từ đó giúp cho mô hình đạt được kết quả cao. "
   ]
  },
  {
   "cell_type": "code",
   "execution_count": null,
   "metadata": {},
   "outputs": [],
   "source": []
  }
 ],
 "metadata": {
  "colab": {
   "collapsed_sections": [
    "e7iv-Gy8NVbo"
   ],
   "name": "final_project_intro2bd.ipynb",
   "provenance": []
  },
  "kernelspec": {
   "display_name": "Python 3 (ipykernel)",
   "language": "python",
   "name": "python3"
  },
  "language_info": {
   "codemirror_mode": {
    "name": "ipython",
    "version": 3
   },
   "file_extension": ".py",
   "mimetype": "text/x-python",
   "name": "python",
   "nbconvert_exporter": "python",
   "pygments_lexer": "ipython3",
   "version": "3.8.8"
  }
 },
 "nbformat": 4,
 "nbformat_minor": 1
}
